{
 "cells": [
  {
   "cell_type": "code",
   "execution_count": 1,
   "metadata": {},
   "outputs": [],
   "source": [
    "import numpy as np\n",
    "import PyPDF2\n",
    "import sys\n",
    "from IPython.display import Image\n",
    "import matplotlib.pyplot as plt\n",
    "%matplotlib inline \n",
    "import networkx as nx\n",
    "from nltk.tokenize.punkt import PunktSentenceTokenizer\n",
    "from sklearn.feature_extraction.text import TfidfTransformer, CountVectorizer"
   ]
  },
  {
   "cell_type": "markdown",
   "metadata": {},
   "source": [
    "# Membaca dokumen"
   ]
  },
  {
   "cell_type": "code",
   "execution_count": 2,
   "metadata": {},
   "outputs": [
    {
     "data": {
      "text/plain": [
       "' Ketua Bidang Data dan Teknologi Informasi Satgas Penanganan Covid-19, Dewi Nur Aisyah, memintamasyarakat tidak menimbulkan kerumunan saat merayakan Tahun Baru 2021. Dia mengingatkan,kerumunan bisa memicu penularan Covid-19. \"Jadi tahun baru ini berkumpul di luar dengan banyak orangsangat-sangat tidak kita anjurkan. Jangan ada lah kumpul-kumpul dulu walaupun di ruangan terbuka,\"katanya saat mengisi Talk Show Covid-19 Dalam Angka di Gedung BNPB,  Selain tahun baru, dia jugamengajak umat Kristiani yang merayakan Natal tetap memperhatikan protokol kesehatan. \"Harus dipikirkanapakah kapasitas ruangannya cukup, apakah bisa dikerjakan secara virtual, ini juga akan menjadipertimbangan,\" kata dia. Dewi juga mengingatkan risiko melakukan perjalanan saat masa libur panjang.Menurutnya, perjalanan di masa libur bisa memicu peningkatan kasus Covid-19 dan meningkatkanketerpakaian tempat tidur di rumah sakit rujukan Covid-19. Dia menyebut, masyarakat bisa tertular Covid-19saat berada di bandara, stasiun bus, statsiun kereta, halte peristirahatan dan rest area ketika melakukanperjalanan selama masa libur. \"Kalau kita lihat alur domino effect, libur panjang menyebabkan peningkatankasus, kapasitas rumah sakit,\" tandasnya.  '"
      ]
     },
     "execution_count": 2,
     "metadata": {},
     "output_type": "execute_result"
    }
   ],
   "source": [
    "pdfFileObj = open('artikel.pdf', 'rb')\n",
    "pdfReader = PyPDF2.PdfFileReader(pdfFileObj)\n",
    "pageObj = pdfReader.getPage(0)\n",
    "document = pageObj.extractText()\n",
    "document"
   ]
  },
  {
   "cell_type": "code",
   "execution_count": 3,
   "metadata": {},
   "outputs": [
    {
     "data": {
      "text/plain": [
       "' Ketua Bidang Data dan Teknologi Informasi Satgas Penanganan Covid-19, Dewi Nur Aisyah, meminta masyarakat tidak menimbulkan kerumunan saat merayakan Tahun Baru 2021. Dia mengingatkan, kerumunan bisa memicu penularan Covid-19. \"Jadi tahun baru ini berkumpul di luar dengan banyak orang sangat-sangat tidak kita anjurkan. Jangan ada lah kumpul-kumpul dulu walaupun di ruangan terbuka,\" katanya saat mengisi Talk Show Covid-19 Dalam Angka di Gedung BNPB,  Selain tahun baru, dia juga mengajak umat Kristiani yang merayakan Natal tetap memperhatikan protokol kesehatan. \"Harus dipikirkan apakah kapasitas ruangannya cukup, apakah bisa dikerjakan secara virtual, ini juga akan menjadi pertimbangan,\" kata dia. Dewi juga mengingatkan risiko melakukan perjalanan saat masa libur panjang. Menurutnya, perjalanan di masa libur bisa memicu peningkatan kasus Covid-19 dan meningkatkan keterpakaian tempat tidur di rumah sakit rujukan Covid-19. Dia menyebut, masyarakat bisa tertular Covid-19 saat berada di bandara, stasiun bus, statsiun kereta, halte peristirahatan dan rest area ketika melakukan perjalanan selama masa libur. \"Kalau kita lihat alur domino effect, libur panjang menyebabkan peningkatan kasus, kapasitas rumah sakit,\" tandasnya.  '"
      ]
     },
     "execution_count": 3,
     "metadata": {},
     "output_type": "execute_result"
    }
   ],
   "source": [
    "artikel=open('artikel.txt','r')\n",
    "document=artikel.read()\n",
    "document"
   ]
  },
  {
   "cell_type": "code",
   "execution_count": 4,
   "metadata": {},
   "outputs": [],
   "source": [
    "doc_tokenizer = PunktSentenceTokenizer()\n",
    "sentences_list = doc_tokenizer.tokenize(document)"
   ]
  },
  {
   "cell_type": "code",
   "execution_count": 5,
   "metadata": {},
   "outputs": [
    {
     "name": "stdout",
     "output_type": "stream",
     "text": [
      " Ketua Bidang Data dan Teknologi Informasi Satgas Penanganan Covid-19, Dewi Nur Aisyah, meminta masyarakat tidak menimbulkan kerumunan saat merayakan Tahun Baru 2021.\n",
      "\n",
      "Dia mengingatkan, kerumunan bisa memicu penularan Covid-19.\n",
      "\n",
      "\"Jadi tahun baru ini berkumpul di luar dengan banyak orang sangat-sangat tidak kita anjurkan.\n",
      "\n",
      "Jangan ada lah kumpul-kumpul dulu walaupun di ruangan terbuka,\" katanya saat mengisi Talk Show Covid-19 Dalam Angka di Gedung BNPB,  Selain tahun baru, dia juga mengajak umat Kristiani yang merayakan Natal tetap memperhatikan protokol kesehatan.\n",
      "\n",
      "\"Harus dipikirkan apakah kapasitas ruangannya cukup, apakah bisa dikerjakan secara virtual, ini juga akan menjadi pertimbangan,\" kata dia.\n",
      "\n",
      "Dewi juga mengingatkan risiko melakukan perjalanan saat masa libur panjang.\n",
      "\n",
      "Menurutnya, perjalanan di masa libur bisa memicu peningkatan kasus Covid-19 dan meningkatkan keterpakaian tempat tidur di rumah sakit rujukan Covid-19.\n",
      "\n",
      "Dia menyebut, masyarakat bisa tertular Covid-19 saat berada di bandara, stasiun bus, statsiun kereta, halte peristirahatan dan rest area ketika melakukan perjalanan selama masa libur.\n",
      "\n",
      "\"Kalau kita lihat alur domino effect, libur panjang menyebabkan peningkatan kasus, kapasitas rumah sakit,\" tandasnya.\n",
      "\n"
     ]
    }
   ],
   "source": [
    "for i in sentences_list:\n",
    "    print(i)\n",
    "    print()"
   ]
  },
  {
   "cell_type": "markdown",
   "metadata": {},
   "source": [
    "# Preproses Dokumen\n",
    "## Preproses tanpa stemming"
   ]
  },
  {
   "cell_type": "code",
   "execution_count": 6,
   "metadata": {},
   "outputs": [],
   "source": [
    "from Sastrawi.StopWordRemover.StopWordRemoverFactory import StopWordRemoverFactory\n",
    "from Sastrawi.Stemmer.StemmerFactory import StemmerFactory\n",
    "import string\n",
    "import re\n",
    "from nltk.corpus import stopwords\n",
    "from nltk.tokenize import sent_tokenize, word_tokenize\n",
    "\n",
    "def preproses_tanpa_stem(text):\n",
    "    #case folding\n",
    "    text = text.lower()\n",
    "    \n",
    "    #cleansing\n",
    "    text = re.sub(r'\\w+:\\/{2}[\\d\\w-]+(\\.[\\d\\w-]+)*(?:(?:\\/[^\\s/]*))*', '', text) #url\n",
    "    text = re.sub(r\"\\d+\", \"\", text) #numeric\n",
    "    #text = re.sub(\"[A-Za-z]\",\"\", text)\n",
    "    text = re.sub(\"@[A-Za-z0-9]+\",\"\", text) #mention\n",
    "    text = re.sub(\"#[A-Za-z0-9]+\",\"\", text) #hastag\n",
    "    text = text.translate(str.maketrans(string.punctuation, ' '*len(string.punctuation))) #tanda baca\n",
    "    text = text.strip() #white space\n",
    "    text = text.replace('…','')\n",
    "    \n",
    "    #tokenize\n",
    "    tokens = word_tokenize(text)\n",
    "    \n",
    "    #baku tak baku\n",
    "    #dictionarynya jadikan external\n",
    "    correct = {}\n",
    "    file_slang = open(\"slangWords.txt\", \"r\")\n",
    "    sl = file_slang.readlines()\n",
    "    for teks in range (len(sl)):\n",
    "        teks=sl[teks].strip()\n",
    "        teks=teks.split(':')\n",
    "        correct[teks[0]]=teks[1]\n",
    "    file_slang.close()\n",
    "    \n",
    "    baku=[]\n",
    "    for x in tokens:\n",
    "        if x in correct.keys():\n",
    "            x=correct[x]\n",
    "        baku.append(x)\n",
    "    \n",
    "    a=''\n",
    "    for i in baku:\n",
    "        a+=i+' '\n",
    "    text=a\n",
    "    \n",
    "    #stopword\n",
    "    #1 nltk\n",
    "    tokens = word_tokenize(text)\n",
    "    listStopword =  stopwords.words('indonesian')\n",
    "    \n",
    "    #addstop jadiin external\n",
    "    addStop = []\n",
    "    file_sw = open(\"addStopword.txt\", \"r\")\n",
    "    sw = file_sw.readlines()\n",
    "    for teks in sw:\n",
    "        addStop.append(teks.strip())\n",
    "    file_sw.close()\n",
    "    \n",
    "    listStopword.extend(addStop)\n",
    "    removed = []\n",
    "    \n",
    "    for t in tokens:\n",
    "        if t not in listStopword:\n",
    "            removed.append(t)\n",
    "    \n",
    "    a=''\n",
    "    for i in removed:\n",
    "        a+=i+' '\n",
    "    text=a\n",
    "    \n",
    "    #2 sastrawi\n",
    "    factory = StopWordRemoverFactory()\n",
    "    stopword = factory.create_stop_word_remover()\n",
    " \n",
    "    text = stopword.remove(text)\n",
    "    \n",
    "    return text"
   ]
  },
  {
   "cell_type": "code",
   "execution_count": 7,
   "metadata": {},
   "outputs": [],
   "source": [
    "def addStopWord(word):\n",
    "    file_sw = open(\"addStopword.txt\", \"a\")\n",
    "    file_sw.write('\\n'+word)\n",
    "    file_sw.close()\n",
    "\n",
    "def addSlangWord(slang,baku):\n",
    "    file_sw = open(\"slangWords.txt\", \"a\")\n",
    "    file_sw.write('\\n'+slang+':'+baku)\n",
    "    file_sw.close()"
   ]
  },
  {
   "cell_type": "code",
   "execution_count": 8,
   "metadata": {},
   "outputs": [],
   "source": [
    "addStopWord('dewi')\n",
    "addStopWord('nur')\n",
    "addStopWord('aisyah')\n",
    "addSlangWord('statsiun','stasiun')"
   ]
  },
  {
   "cell_type": "code",
   "execution_count": 9,
   "metadata": {},
   "outputs": [
    {
     "data": {
      "text/plain": [
       "['ketua bidang data teknologi informasi satgas penanganan covid masyarakat menimbulkan kerumunan merayakan ',\n",
       " 'kerumunan memicu penularan covid ',\n",
       " 'berkumpul orang anjurkan ',\n",
       " 'kumpul kumpul ruangan terbuka mengisi talk show covid angka gedung bnpb mengajak umat kristiani merayakan natal memperhatikan protokol kesehatan ',\n",
       " 'dipikirkan kapasitas ruangannya virtual pertimbangan ',\n",
       " 'risiko perjalanan libur ',\n",
       " 'menurutnya perjalanan libur memicu peningkatan covid meningkatkan keterpakaian tidur rumah sakit rujukan covid ',\n",
       " 'menyebut masyarakat tertular covid bandara stasiun bus stasiun kereta halte peristirahatan rest area perjalanan libur ',\n",
       " 'lihat alur domino effect libur menyebabkan peningkatan kapasitas rumah sakit ']"
      ]
     },
     "execution_count": 9,
     "metadata": {},
     "output_type": "execute_result"
    }
   ],
   "source": [
    "cleared=[]\n",
    "for i in sentences_list:\n",
    "    temp=preproses_tanpa_stem(i)\n",
    "    cleared.append(temp)\n",
    "cleared"
   ]
  },
  {
   "cell_type": "markdown",
   "metadata": {},
   "source": [
    "## Preproses Dengan Stemming"
   ]
  },
  {
   "cell_type": "code",
   "execution_count": 10,
   "metadata": {},
   "outputs": [],
   "source": [
    "from Sastrawi.StopWordRemover.StopWordRemoverFactory import StopWordRemoverFactory\n",
    "from Sastrawi.Stemmer.StemmerFactory import StemmerFactory\n",
    "import string\n",
    "import re\n",
    "from nltk.corpus import stopwords\n",
    "from nltk.tokenize import sent_tokenize, word_tokenize\n",
    "\n",
    "def preproses(text):\n",
    "    #case folding\n",
    "    text = text.lower()\n",
    "    \n",
    "    #cleansing\n",
    "    text = re.sub(r'\\w+:\\/{2}[\\d\\w-]+(\\.[\\d\\w-]+)*(?:(?:\\/[^\\s/]*))*', '', text) #url\n",
    "    text = re.sub(r\"\\d+\", \"\", text) #numeric\n",
    "    #text = re.sub(\"[A-Za-z]\",\"\", text)\n",
    "    text = re.sub(\"@[A-Za-z0-9]+\",\"\", text) #mention\n",
    "    text = re.sub(\"#[A-Za-z0-9]+\",\"\", text) #hastag\n",
    "    text = text.translate(str.maketrans(string.punctuation, ' '*len(string.punctuation))) #tanda baca\n",
    "    text = text.strip() #white space\n",
    "    text = text.replace('…','')\n",
    "    \n",
    "    #tokenize\n",
    "    tokens = word_tokenize(text)\n",
    "    \n",
    "    #baku tak baku\n",
    "    #dictionarynya jadikan external\n",
    "    correct = {}\n",
    "    file_slang = open(\"slangWords.txt\", \"r\")\n",
    "    sl = file_slang.readlines()\n",
    "    for teks in range (len(sl)):\n",
    "        teks=sl[teks].strip()\n",
    "        teks=teks.split(':')\n",
    "        correct[teks[0]]=teks[1]\n",
    "    file_slang.close()\n",
    "    \n",
    "    baku=[]\n",
    "    for x in tokens:\n",
    "        if x in correct.keys():\n",
    "            x=correct[x]\n",
    "        baku.append(x)\n",
    "    \n",
    "    a=''\n",
    "    for i in baku:\n",
    "        a+=i+' '\n",
    "    text=a\n",
    "    \n",
    "    #stopword\n",
    "    #1 nltk\n",
    "    tokens = word_tokenize(text)\n",
    "    listStopword =  stopwords.words('indonesian')\n",
    "    \n",
    "    #addstop jadiin external\n",
    "    addStop = []\n",
    "    file_sw = open(\"addStopword.txt\", \"r\")\n",
    "    sw = file_sw.readlines()\n",
    "    for teks in sw:\n",
    "        addStop.append(teks.strip())\n",
    "    file_sw.close()\n",
    "    \n",
    "    listStopword.extend(addStop)\n",
    "    removed = []\n",
    "    \n",
    "    for t in tokens:\n",
    "        if t not in listStopword:\n",
    "            removed.append(t)\n",
    "    \n",
    "    a=''\n",
    "    for i in removed:\n",
    "        a+=i+' '\n",
    "    text=a\n",
    "    \n",
    "    #2 sastrawi\n",
    "    factory = StopWordRemoverFactory()\n",
    "    stopword = factory.create_stop_word_remover()\n",
    " \n",
    "    text = stopword.remove(text)\n",
    "    \n",
    "    #stemming\n",
    "    factory = StemmerFactory()\n",
    "    stemmer = factory.create_stemmer()\n",
    "    text = stemmer.stem(text)\n",
    "    \n",
    "    return text"
   ]
  },
  {
   "cell_type": "code",
   "execution_count": 11,
   "metadata": {},
   "outputs": [
    {
     "data": {
      "text/plain": [
       "['ketua bidang data teknologi informasi satgas tangan covid masyarakat timbul kerumun raya',\n",
       " 'kerumun picu tular covid',\n",
       " 'kumpul orang anjur',\n",
       " 'kumpul kumpul ruang buka isi talk show covid angka gedung bnpb ajak umat kristiani raya natal perhati protokol sehat',\n",
       " 'pikir kapasitas ruang virtual timbang',\n",
       " 'risiko jalan libur',\n",
       " 'turut jalan libur picu tingkat covid tingkat pakai tidur rumah sakit rujuk covid',\n",
       " 'sebut masyarakat tular covid bandara stasiun bus stasiun kereta halte istirahat rest area jalan libur',\n",
       " 'lihat alur domino effect libur sebab tingkat kapasitas rumah sakit']"
      ]
     },
     "execution_count": 11,
     "metadata": {},
     "output_type": "execute_result"
    }
   ],
   "source": [
    "cleared_stem=[]\n",
    "for i in sentences_list:\n",
    "    temp=preproses(i)\n",
    "    cleared_stem.append(temp)\n",
    "cleared_stem"
   ]
  },
  {
   "cell_type": "markdown",
   "metadata": {},
   "source": [
    "# Fitur / Get Word"
   ]
  },
  {
   "cell_type": "code",
   "execution_count": 55,
   "metadata": {},
   "outputs": [
    {
     "data": {
      "text/plain": [
       "(9, 64)"
      ]
     },
     "execution_count": 55,
     "metadata": {},
     "output_type": "execute_result"
    }
   ],
   "source": [
    "cv = CountVectorizer()\n",
    "cv_matrix = cv.fit_transform(cleared)\n",
    "a=cv_matrix.toarray()\n",
    "a.shape"
   ]
  },
  {
   "cell_type": "code",
   "execution_count": 56,
   "metadata": {},
   "outputs": [
    {
     "name": "stdout",
     "output_type": "stream",
     "text": [
      "['alur', 'angka', 'anjurkan', 'area', 'bandara', 'berkumpul', 'bidang', 'bnpb', 'bus', 'covid', 'data', 'dipikirkan', 'domino', 'effect', 'gedung', 'halte', 'informasi', 'kapasitas', 'kereta', 'kerumunan', 'kesehatan', 'keterpakaian', 'ketua', 'kristiani', 'kumpul', 'libur', 'lihat', 'masyarakat', 'memicu', 'memperhatikan', 'mengajak', 'mengisi', 'menimbulkan', 'meningkatkan', 'menurutnya', 'menyebabkan', 'menyebut', 'merayakan', 'natal', 'orang', 'penanganan', 'peningkatan', 'penularan', 'peristirahatan', 'perjalanan', 'pertimbangan', 'protokol', 'rest', 'risiko', 'ruangan', 'ruangannya', 'rujukan', 'rumah', 'sakit', 'satgas', 'show', 'stasiun', 'talk', 'teknologi', 'terbuka', 'tertular', 'tidur', 'umat', 'virtual']\n"
     ]
    }
   ],
   "source": [
    "print(cv.get_feature_names())\n",
    "a=cv.get_feature_names()"
   ]
  },
  {
   "cell_type": "markdown",
   "metadata": {},
   "source": [
    "# Matrik Tf idf"
   ]
  },
  {
   "cell_type": "code",
   "execution_count": 57,
   "metadata": {},
   "outputs": [],
   "source": [
    "normal_matrix = TfidfTransformer().fit_transform(cv_matrix)\n",
    "tfidf=normal_matrix.toarray()"
   ]
  },
  {
   "cell_type": "code",
   "execution_count": 58,
   "metadata": {},
   "outputs": [
    {
     "data": {
      "text/html": [
       "<div>\n",
       "<style scoped>\n",
       "    .dataframe tbody tr th:only-of-type {\n",
       "        vertical-align: middle;\n",
       "    }\n",
       "\n",
       "    .dataframe tbody tr th {\n",
       "        vertical-align: top;\n",
       "    }\n",
       "\n",
       "    .dataframe thead tr th {\n",
       "        text-align: left;\n",
       "    }\n",
       "</style>\n",
       "<table border=\"1\" class=\"dataframe\">\n",
       "  <thead>\n",
       "    <tr>\n",
       "      <th></th>\n",
       "      <th>alur</th>\n",
       "      <th>angka</th>\n",
       "      <th>anjurkan</th>\n",
       "      <th>area</th>\n",
       "      <th>bandara</th>\n",
       "      <th>berkumpul</th>\n",
       "      <th>bidang</th>\n",
       "      <th>bnpb</th>\n",
       "      <th>bus</th>\n",
       "      <th>covid</th>\n",
       "      <th>...</th>\n",
       "      <th>satgas</th>\n",
       "      <th>show</th>\n",
       "      <th>stasiun</th>\n",
       "      <th>talk</th>\n",
       "      <th>teknologi</th>\n",
       "      <th>terbuka</th>\n",
       "      <th>tertular</th>\n",
       "      <th>tidur</th>\n",
       "      <th>umat</th>\n",
       "      <th>virtual</th>\n",
       "    </tr>\n",
       "  </thead>\n",
       "  <tbody>\n",
       "    <tr>\n",
       "      <th>kalimat 1</th>\n",
       "      <td>0.000000</td>\n",
       "      <td>0.000000</td>\n",
       "      <td>0.00000</td>\n",
       "      <td>0.000000</td>\n",
       "      <td>0.000000</td>\n",
       "      <td>0.00000</td>\n",
       "      <td>0.30897</td>\n",
       "      <td>0.000000</td>\n",
       "      <td>0.000000</td>\n",
       "      <td>0.178889</td>\n",
       "      <td>...</td>\n",
       "      <td>0.30897</td>\n",
       "      <td>0.000000</td>\n",
       "      <td>0.000000</td>\n",
       "      <td>0.000000</td>\n",
       "      <td>0.30897</td>\n",
       "      <td>0.000000</td>\n",
       "      <td>0.000000</td>\n",
       "      <td>0.00000</td>\n",
       "      <td>0.000000</td>\n",
       "      <td>0.000000</td>\n",
       "    </tr>\n",
       "    <tr>\n",
       "      <th>kalimat 2</th>\n",
       "      <td>0.000000</td>\n",
       "      <td>0.000000</td>\n",
       "      <td>0.00000</td>\n",
       "      <td>0.000000</td>\n",
       "      <td>0.000000</td>\n",
       "      <td>0.00000</td>\n",
       "      <td>0.00000</td>\n",
       "      <td>0.000000</td>\n",
       "      <td>0.000000</td>\n",
       "      <td>0.348383</td>\n",
       "      <td>...</td>\n",
       "      <td>0.00000</td>\n",
       "      <td>0.000000</td>\n",
       "      <td>0.000000</td>\n",
       "      <td>0.000000</td>\n",
       "      <td>0.00000</td>\n",
       "      <td>0.000000</td>\n",
       "      <td>0.000000</td>\n",
       "      <td>0.00000</td>\n",
       "      <td>0.000000</td>\n",
       "      <td>0.000000</td>\n",
       "    </tr>\n",
       "    <tr>\n",
       "      <th>kalimat 3</th>\n",
       "      <td>0.000000</td>\n",
       "      <td>0.000000</td>\n",
       "      <td>0.57735</td>\n",
       "      <td>0.000000</td>\n",
       "      <td>0.000000</td>\n",
       "      <td>0.57735</td>\n",
       "      <td>0.00000</td>\n",
       "      <td>0.000000</td>\n",
       "      <td>0.000000</td>\n",
       "      <td>0.000000</td>\n",
       "      <td>...</td>\n",
       "      <td>0.00000</td>\n",
       "      <td>0.000000</td>\n",
       "      <td>0.000000</td>\n",
       "      <td>0.000000</td>\n",
       "      <td>0.00000</td>\n",
       "      <td>0.000000</td>\n",
       "      <td>0.000000</td>\n",
       "      <td>0.00000</td>\n",
       "      <td>0.000000</td>\n",
       "      <td>0.000000</td>\n",
       "    </tr>\n",
       "    <tr>\n",
       "      <th>kalimat 4</th>\n",
       "      <td>0.000000</td>\n",
       "      <td>0.223336</td>\n",
       "      <td>0.00000</td>\n",
       "      <td>0.000000</td>\n",
       "      <td>0.000000</td>\n",
       "      <td>0.00000</td>\n",
       "      <td>0.00000</td>\n",
       "      <td>0.223336</td>\n",
       "      <td>0.000000</td>\n",
       "      <td>0.129308</td>\n",
       "      <td>...</td>\n",
       "      <td>0.00000</td>\n",
       "      <td>0.223336</td>\n",
       "      <td>0.000000</td>\n",
       "      <td>0.223336</td>\n",
       "      <td>0.00000</td>\n",
       "      <td>0.223336</td>\n",
       "      <td>0.000000</td>\n",
       "      <td>0.00000</td>\n",
       "      <td>0.223336</td>\n",
       "      <td>0.000000</td>\n",
       "    </tr>\n",
       "    <tr>\n",
       "      <th>kalimat 5</th>\n",
       "      <td>0.000000</td>\n",
       "      <td>0.000000</td>\n",
       "      <td>0.00000</td>\n",
       "      <td>0.000000</td>\n",
       "      <td>0.000000</td>\n",
       "      <td>0.00000</td>\n",
       "      <td>0.00000</td>\n",
       "      <td>0.000000</td>\n",
       "      <td>0.000000</td>\n",
       "      <td>0.000000</td>\n",
       "      <td>...</td>\n",
       "      <td>0.00000</td>\n",
       "      <td>0.000000</td>\n",
       "      <td>0.000000</td>\n",
       "      <td>0.000000</td>\n",
       "      <td>0.00000</td>\n",
       "      <td>0.000000</td>\n",
       "      <td>0.000000</td>\n",
       "      <td>0.00000</td>\n",
       "      <td>0.000000</td>\n",
       "      <td>0.460611</td>\n",
       "    </tr>\n",
       "    <tr>\n",
       "      <th>kalimat 6</th>\n",
       "      <td>0.000000</td>\n",
       "      <td>0.000000</td>\n",
       "      <td>0.00000</td>\n",
       "      <td>0.000000</td>\n",
       "      <td>0.000000</td>\n",
       "      <td>0.00000</td>\n",
       "      <td>0.00000</td>\n",
       "      <td>0.000000</td>\n",
       "      <td>0.000000</td>\n",
       "      <td>0.000000</td>\n",
       "      <td>...</td>\n",
       "      <td>0.00000</td>\n",
       "      <td>0.000000</td>\n",
       "      <td>0.000000</td>\n",
       "      <td>0.000000</td>\n",
       "      <td>0.00000</td>\n",
       "      <td>0.000000</td>\n",
       "      <td>0.000000</td>\n",
       "      <td>0.00000</td>\n",
       "      <td>0.000000</td>\n",
       "      <td>0.000000</td>\n",
       "    </tr>\n",
       "    <tr>\n",
       "      <th>dkalimat 7</th>\n",
       "      <td>0.000000</td>\n",
       "      <td>0.000000</td>\n",
       "      <td>0.00000</td>\n",
       "      <td>0.000000</td>\n",
       "      <td>0.000000</td>\n",
       "      <td>0.00000</td>\n",
       "      <td>0.00000</td>\n",
       "      <td>0.000000</td>\n",
       "      <td>0.000000</td>\n",
       "      <td>0.363382</td>\n",
       "      <td>...</td>\n",
       "      <td>0.00000</td>\n",
       "      <td>0.000000</td>\n",
       "      <td>0.000000</td>\n",
       "      <td>0.000000</td>\n",
       "      <td>0.00000</td>\n",
       "      <td>0.000000</td>\n",
       "      <td>0.000000</td>\n",
       "      <td>0.31381</td>\n",
       "      <td>0.000000</td>\n",
       "      <td>0.000000</td>\n",
       "    </tr>\n",
       "    <tr>\n",
       "      <th>kalimat 8</th>\n",
       "      <td>0.000000</td>\n",
       "      <td>0.000000</td>\n",
       "      <td>0.00000</td>\n",
       "      <td>0.258122</td>\n",
       "      <td>0.258122</td>\n",
       "      <td>0.00000</td>\n",
       "      <td>0.00000</td>\n",
       "      <td>0.000000</td>\n",
       "      <td>0.258122</td>\n",
       "      <td>0.149449</td>\n",
       "      <td>...</td>\n",
       "      <td>0.00000</td>\n",
       "      <td>0.000000</td>\n",
       "      <td>0.516244</td>\n",
       "      <td>0.000000</td>\n",
       "      <td>0.00000</td>\n",
       "      <td>0.000000</td>\n",
       "      <td>0.258122</td>\n",
       "      <td>0.00000</td>\n",
       "      <td>0.000000</td>\n",
       "      <td>0.000000</td>\n",
       "    </tr>\n",
       "    <tr>\n",
       "      <th>kalimat 9</th>\n",
       "      <td>0.347639</td>\n",
       "      <td>0.000000</td>\n",
       "      <td>0.00000</td>\n",
       "      <td>0.000000</td>\n",
       "      <td>0.000000</td>\n",
       "      <td>0.00000</td>\n",
       "      <td>0.00000</td>\n",
       "      <td>0.000000</td>\n",
       "      <td>0.000000</td>\n",
       "      <td>0.000000</td>\n",
       "      <td>...</td>\n",
       "      <td>0.00000</td>\n",
       "      <td>0.000000</td>\n",
       "      <td>0.000000</td>\n",
       "      <td>0.000000</td>\n",
       "      <td>0.00000</td>\n",
       "      <td>0.000000</td>\n",
       "      <td>0.000000</td>\n",
       "      <td>0.00000</td>\n",
       "      <td>0.000000</td>\n",
       "      <td>0.000000</td>\n",
       "    </tr>\n",
       "  </tbody>\n",
       "</table>\n",
       "<p>9 rows × 64 columns</p>\n",
       "</div>"
      ],
      "text/plain": [
       "                alur     angka anjurkan      area   bandara berkumpul  \\\n",
       "kalimat 1   0.000000  0.000000  0.00000  0.000000  0.000000   0.00000   \n",
       "kalimat 2   0.000000  0.000000  0.00000  0.000000  0.000000   0.00000   \n",
       "kalimat 3   0.000000  0.000000  0.57735  0.000000  0.000000   0.57735   \n",
       "kalimat 4   0.000000  0.223336  0.00000  0.000000  0.000000   0.00000   \n",
       "kalimat 5   0.000000  0.000000  0.00000  0.000000  0.000000   0.00000   \n",
       "kalimat 6   0.000000  0.000000  0.00000  0.000000  0.000000   0.00000   \n",
       "dkalimat 7  0.000000  0.000000  0.00000  0.000000  0.000000   0.00000   \n",
       "kalimat 8   0.000000  0.000000  0.00000  0.258122  0.258122   0.00000   \n",
       "kalimat 9   0.347639  0.000000  0.00000  0.000000  0.000000   0.00000   \n",
       "\n",
       "             bidang      bnpb       bus     covid    ...      satgas  \\\n",
       "kalimat 1   0.30897  0.000000  0.000000  0.178889    ...     0.30897   \n",
       "kalimat 2   0.00000  0.000000  0.000000  0.348383    ...     0.00000   \n",
       "kalimat 3   0.00000  0.000000  0.000000  0.000000    ...     0.00000   \n",
       "kalimat 4   0.00000  0.223336  0.000000  0.129308    ...     0.00000   \n",
       "kalimat 5   0.00000  0.000000  0.000000  0.000000    ...     0.00000   \n",
       "kalimat 6   0.00000  0.000000  0.000000  0.000000    ...     0.00000   \n",
       "dkalimat 7  0.00000  0.000000  0.000000  0.363382    ...     0.00000   \n",
       "kalimat 8   0.00000  0.000000  0.258122  0.149449    ...     0.00000   \n",
       "kalimat 9   0.00000  0.000000  0.000000  0.000000    ...     0.00000   \n",
       "\n",
       "                show   stasiun      talk teknologi   terbuka  tertular  \\\n",
       "kalimat 1   0.000000  0.000000  0.000000   0.30897  0.000000  0.000000   \n",
       "kalimat 2   0.000000  0.000000  0.000000   0.00000  0.000000  0.000000   \n",
       "kalimat 3   0.000000  0.000000  0.000000   0.00000  0.000000  0.000000   \n",
       "kalimat 4   0.223336  0.000000  0.223336   0.00000  0.223336  0.000000   \n",
       "kalimat 5   0.000000  0.000000  0.000000   0.00000  0.000000  0.000000   \n",
       "kalimat 6   0.000000  0.000000  0.000000   0.00000  0.000000  0.000000   \n",
       "dkalimat 7  0.000000  0.000000  0.000000   0.00000  0.000000  0.000000   \n",
       "kalimat 8   0.000000  0.516244  0.000000   0.00000  0.000000  0.258122   \n",
       "kalimat 9   0.000000  0.000000  0.000000   0.00000  0.000000  0.000000   \n",
       "\n",
       "              tidur      umat   virtual  \n",
       "kalimat 1   0.00000  0.000000  0.000000  \n",
       "kalimat 2   0.00000  0.000000  0.000000  \n",
       "kalimat 3   0.00000  0.000000  0.000000  \n",
       "kalimat 4   0.00000  0.223336  0.000000  \n",
       "kalimat 5   0.00000  0.000000  0.460611  \n",
       "kalimat 6   0.00000  0.000000  0.000000  \n",
       "dkalimat 7  0.31381  0.000000  0.000000  \n",
       "kalimat 8   0.00000  0.000000  0.000000  \n",
       "kalimat 9   0.00000  0.000000  0.000000  \n",
       "\n",
       "[9 rows x 64 columns]"
      ]
     },
     "execution_count": 58,
     "metadata": {},
     "output_type": "execute_result"
    }
   ],
   "source": [
    "import pandas as pd\n",
    "dfb = pd.DataFrame(data=tfidf,index=[\"kalimat 1\", \"kalimat 2\",\"kalimat 3\",\"kalimat 4\",\"kalimat 5\",\"kalimat 6\",\"dkalimat 7\",\"kalimat 8\",\"kalimat 9\"],columns=[a])\n",
    "dfb"
   ]
  },
  {
   "cell_type": "code",
   "execution_count": 59,
   "metadata": {},
   "outputs": [
    {
     "name": "stdout",
     "output_type": "stream",
     "text": [
      "[[0.         0.         0.         0.         0.         0.\n",
      "  0.30896956 0.         0.         0.17888876 0.30896956 0.\n",
      "  0.         0.         0.         0.         0.30896956 0.\n",
      "  0.         0.26096061 0.         0.         0.30896956 0.\n",
      "  0.         0.         0.         0.26096061 0.         0.\n",
      "  0.         0.         0.30896956 0.         0.         0.\n",
      "  0.         0.26096061 0.         0.         0.30896956 0.\n",
      "  0.         0.         0.         0.         0.         0.\n",
      "  0.         0.         0.         0.         0.         0.\n",
      "  0.30896956 0.         0.         0.         0.30896956 0.\n",
      "  0.         0.         0.         0.        ]\n",
      " [0.         0.         0.         0.         0.         0.\n",
      "  0.         0.         0.         0.34838339 0.         0.\n",
      "  0.         0.         0.         0.         0.         0.\n",
      "  0.         0.50821716 0.         0.         0.         0.\n",
      "  0.         0.         0.         0.         0.50821716 0.\n",
      "  0.         0.         0.         0.         0.         0.\n",
      "  0.         0.         0.         0.         0.         0.\n",
      "  0.60171393 0.         0.         0.         0.         0.\n",
      "  0.         0.         0.         0.         0.         0.\n",
      "  0.         0.         0.         0.         0.         0.\n",
      "  0.         0.         0.         0.        ]\n",
      " [0.         0.         0.57735027 0.         0.         0.57735027\n",
      "  0.         0.         0.         0.         0.         0.\n",
      "  0.         0.         0.         0.         0.         0.\n",
      "  0.         0.         0.         0.         0.         0.\n",
      "  0.         0.         0.         0.         0.         0.\n",
      "  0.         0.         0.         0.         0.         0.\n",
      "  0.         0.         0.         0.57735027 0.         0.\n",
      "  0.         0.         0.         0.         0.         0.\n",
      "  0.         0.         0.         0.         0.         0.\n",
      "  0.         0.         0.         0.         0.         0.\n",
      "  0.         0.         0.         0.        ]\n",
      " [0.         0.22333561 0.         0.         0.         0.\n",
      "  0.         0.22333561 0.         0.12930799 0.         0.\n",
      "  0.         0.         0.22333561 0.         0.         0.\n",
      "  0.         0.         0.22333561 0.         0.         0.22333561\n",
      "  0.44667122 0.         0.         0.         0.         0.22333561\n",
      "  0.22333561 0.22333561 0.         0.         0.         0.\n",
      "  0.         0.18863281 0.22333561 0.         0.         0.\n",
      "  0.         0.         0.         0.         0.22333561 0.\n",
      "  0.         0.22333561 0.         0.         0.         0.\n",
      "  0.         0.22333561 0.         0.22333561 0.         0.22333561\n",
      "  0.         0.         0.22333561 0.        ]\n",
      " [0.         0.         0.         0.         0.         0.\n",
      "  0.         0.         0.         0.         0.         0.46061063\n",
      "  0.         0.         0.         0.         0.         0.38903907\n",
      "  0.         0.         0.         0.         0.         0.\n",
      "  0.         0.         0.         0.         0.         0.\n",
      "  0.         0.         0.         0.         0.         0.\n",
      "  0.         0.         0.         0.         0.         0.\n",
      "  0.         0.         0.         0.46061063 0.         0.\n",
      "  0.         0.         0.46061063 0.         0.         0.\n",
      "  0.         0.         0.         0.         0.         0.\n",
      "  0.         0.         0.         0.46061063]\n",
      " [0.         0.         0.         0.         0.         0.\n",
      "  0.         0.         0.         0.         0.         0.\n",
      "  0.         0.         0.         0.         0.         0.\n",
      "  0.         0.         0.         0.         0.         0.\n",
      "  0.         0.46343118 0.         0.         0.         0.\n",
      "  0.         0.         0.         0.         0.         0.\n",
      "  0.         0.         0.         0.         0.         0.\n",
      "  0.         0.         0.52450778 0.         0.         0.\n",
      "  0.71422904 0.         0.         0.         0.         0.\n",
      "  0.         0.         0.         0.         0.         0.\n",
      "  0.         0.         0.         0.        ]\n",
      " [0.         0.         0.         0.         0.         0.\n",
      "  0.         0.         0.         0.36338216 0.         0.\n",
      "  0.         0.         0.         0.         0.         0.\n",
      "  0.         0.         0.         0.31380961 0.         0.\n",
      "  0.         0.20361697 0.         0.         0.26504859 0.\n",
      "  0.         0.         0.         0.31380961 0.31380961 0.\n",
      "  0.         0.         0.         0.         0.         0.26504859\n",
      "  0.         0.         0.2304521  0.         0.         0.\n",
      "  0.         0.         0.         0.31380961 0.26504859 0.26504859\n",
      "  0.         0.         0.         0.         0.         0.\n",
      "  0.         0.31380961 0.         0.        ]\n",
      " [0.         0.         0.         0.25812223 0.25812223 0.\n",
      "  0.         0.         0.25812223 0.14944892 0.         0.\n",
      "  0.         0.         0.         0.25812223 0.         0.\n",
      "  0.25812223 0.         0.         0.         0.         0.\n",
      "  0.         0.16748393 0.         0.21801415 0.         0.\n",
      "  0.         0.         0.         0.         0.         0.\n",
      "  0.25812223 0.         0.         0.         0.         0.\n",
      "  0.         0.25812223 0.18955701 0.         0.         0.25812223\n",
      "  0.         0.         0.         0.         0.         0.\n",
      "  0.         0.         0.51624446 0.         0.         0.\n",
      "  0.25812223 0.         0.         0.        ]\n",
      " [0.34763914 0.         0.         0.         0.         0.\n",
      "  0.         0.         0.         0.         0.         0.\n",
      "  0.34763914 0.34763914 0.         0.         0.         0.29362155\n",
      "  0.         0.         0.         0.         0.         0.\n",
      "  0.         0.22556744 0.34763914 0.         0.         0.\n",
      "  0.         0.         0.         0.         0.         0.34763914\n",
      "  0.         0.         0.         0.         0.         0.29362155\n",
      "  0.         0.         0.         0.         0.         0.\n",
      "  0.         0.         0.         0.         0.29362155 0.29362155\n",
      "  0.         0.         0.         0.         0.         0.\n",
      "  0.         0.         0.         0.        ]]\n"
     ]
    }
   ],
   "source": [
    "print(tfidf)"
   ]
  },
  {
   "cell_type": "markdown",
   "metadata": {},
   "source": [
    "# matrik similaritas / adjacency"
   ]
  },
  {
   "cell_type": "code",
   "execution_count": 60,
   "metadata": {},
   "outputs": [
    {
     "data": {
      "image/png": "[encoded data removed]",
      "text/plain": [
       "<IPython.core.display.Image object>"
      ]
     },
     "execution_count": 60,
     "metadata": {},
     "output_type": "execute_result"
    }
   ],
   "source": [
    "Image(filename='cosinus.png') "
   ]
  },
  {
   "cell_type": "code",
   "execution_count": 61,
   "metadata": {},
   "outputs": [
    {
     "data": {
      "text/plain": [
       "0.19494653226076505"
      ]
     },
     "execution_count": 61,
     "metadata": {},
     "output_type": "execute_result"
    }
   ],
   "source": [
    "vektorkalimat=normal_matrix.toarray()\n",
    "A=vektorkalimat[0]\n",
    "B=vektorkalimat[1]\n",
    "dot = np.dot(A, B)\n",
    "norma = np.linalg.norm(A)\n",
    "normb = np.linalg.norm(B)\n",
    "cos = dot / (norma * normb)\n",
    "\n",
    "cos"
   ]
  },
  {
   "cell_type": "code",
   "execution_count": 62,
   "metadata": {},
   "outputs": [],
   "source": [
    "res_graph = normal_matrix * normal_matrix.T # similaritas /adjacency matrix\n",
    "G=res_graph.toarray()"
   ]
  },
  {
   "cell_type": "code",
   "execution_count": 63,
   "metadata": {},
   "outputs": [
    {
     "name": "stdout",
     "output_type": "stream",
     "text": [
      "[[1.         0.19494653 0.         0.07235748 0.         0.\n",
      "  0.06500499 0.08362784 0.        ]\n",
      " [0.19494653 1.         0.         0.04504875 0.         0.\n",
      "  0.26129855 0.05206552 0.        ]\n",
      " [0.         0.         1.         0.         0.         0.\n",
      "  0.         0.         0.        ]\n",
      " [0.07235748 0.04504875 0.         1.         0.         0.\n",
      "  0.04698822 0.01932494 0.        ]\n",
      " [0.         0.         0.         0.         1.         0.\n",
      "  0.         0.         0.11423026]\n",
      " [0.         0.         0.         0.         0.         1.\n",
      "  0.21523637 0.1770414  0.10453499]\n",
      " [0.06500499 0.26129855 0.         0.04698822 0.         0.21523637\n",
      "  1.         0.13209345 0.2794013 ]\n",
      " [0.08362784 0.05206552 0.         0.01932494 0.         0.1770414\n",
      "  0.13209345 1.         0.03777892]\n",
      " [0.         0.         0.         0.         0.11423026 0.10453499\n",
      "  0.2794013  0.03777892 1.        ]]\n"
     ]
    }
   ],
   "source": [
    "print(G)"
   ]
  },
  {
   "cell_type": "code",
   "execution_count": 64,
   "metadata": {},
   "outputs": [
    {
     "data": {
      "text/html": [
       "<div>\n",
       "<style scoped>\n",
       "    .dataframe tbody tr th:only-of-type {\n",
       "        vertical-align: middle;\n",
       "    }\n",
       "\n",
       "    .dataframe tbody tr th {\n",
       "        vertical-align: top;\n",
       "    }\n",
       "\n",
       "    .dataframe thead th {\n",
       "        text-align: right;\n",
       "    }\n",
       "</style>\n",
       "<table border=\"1\" class=\"dataframe\">\n",
       "  <thead>\n",
       "    <tr style=\"text-align: right;\">\n",
       "      <th></th>\n",
       "      <th>0</th>\n",
       "      <th>1</th>\n",
       "      <th>2</th>\n",
       "      <th>3</th>\n",
       "      <th>4</th>\n",
       "      <th>5</th>\n",
       "      <th>6</th>\n",
       "      <th>7</th>\n",
       "      <th>8</th>\n",
       "    </tr>\n",
       "  </thead>\n",
       "  <tbody>\n",
       "    <tr>\n",
       "      <th>0</th>\n",
       "      <td>1.000000</td>\n",
       "      <td>0.194947</td>\n",
       "      <td>0.0</td>\n",
       "      <td>0.072357</td>\n",
       "      <td>0.00000</td>\n",
       "      <td>0.000000</td>\n",
       "      <td>0.065005</td>\n",
       "      <td>0.083628</td>\n",
       "      <td>0.000000</td>\n",
       "    </tr>\n",
       "    <tr>\n",
       "      <th>1</th>\n",
       "      <td>0.194947</td>\n",
       "      <td>1.000000</td>\n",
       "      <td>0.0</td>\n",
       "      <td>0.045049</td>\n",
       "      <td>0.00000</td>\n",
       "      <td>0.000000</td>\n",
       "      <td>0.261299</td>\n",
       "      <td>0.052066</td>\n",
       "      <td>0.000000</td>\n",
       "    </tr>\n",
       "    <tr>\n",
       "      <th>2</th>\n",
       "      <td>0.000000</td>\n",
       "      <td>0.000000</td>\n",
       "      <td>1.0</td>\n",
       "      <td>0.000000</td>\n",
       "      <td>0.00000</td>\n",
       "      <td>0.000000</td>\n",
       "      <td>0.000000</td>\n",
       "      <td>0.000000</td>\n",
       "      <td>0.000000</td>\n",
       "    </tr>\n",
       "    <tr>\n",
       "      <th>3</th>\n",
       "      <td>0.072357</td>\n",
       "      <td>0.045049</td>\n",
       "      <td>0.0</td>\n",
       "      <td>1.000000</td>\n",
       "      <td>0.00000</td>\n",
       "      <td>0.000000</td>\n",
       "      <td>0.046988</td>\n",
       "      <td>0.019325</td>\n",
       "      <td>0.000000</td>\n",
       "    </tr>\n",
       "    <tr>\n",
       "      <th>4</th>\n",
       "      <td>0.000000</td>\n",
       "      <td>0.000000</td>\n",
       "      <td>0.0</td>\n",
       "      <td>0.000000</td>\n",
       "      <td>1.00000</td>\n",
       "      <td>0.000000</td>\n",
       "      <td>0.000000</td>\n",
       "      <td>0.000000</td>\n",
       "      <td>0.114230</td>\n",
       "    </tr>\n",
       "    <tr>\n",
       "      <th>5</th>\n",
       "      <td>0.000000</td>\n",
       "      <td>0.000000</td>\n",
       "      <td>0.0</td>\n",
       "      <td>0.000000</td>\n",
       "      <td>0.00000</td>\n",
       "      <td>1.000000</td>\n",
       "      <td>0.215236</td>\n",
       "      <td>0.177041</td>\n",
       "      <td>0.104535</td>\n",
       "    </tr>\n",
       "    <tr>\n",
       "      <th>6</th>\n",
       "      <td>0.065005</td>\n",
       "      <td>0.261299</td>\n",
       "      <td>0.0</td>\n",
       "      <td>0.046988</td>\n",
       "      <td>0.00000</td>\n",
       "      <td>0.215236</td>\n",
       "      <td>1.000000</td>\n",
       "      <td>0.132093</td>\n",
       "      <td>0.279401</td>\n",
       "    </tr>\n",
       "    <tr>\n",
       "      <th>7</th>\n",
       "      <td>0.083628</td>\n",
       "      <td>0.052066</td>\n",
       "      <td>0.0</td>\n",
       "      <td>0.019325</td>\n",
       "      <td>0.00000</td>\n",
       "      <td>0.177041</td>\n",
       "      <td>0.132093</td>\n",
       "      <td>1.000000</td>\n",
       "      <td>0.037779</td>\n",
       "    </tr>\n",
       "    <tr>\n",
       "      <th>8</th>\n",
       "      <td>0.000000</td>\n",
       "      <td>0.000000</td>\n",
       "      <td>0.0</td>\n",
       "      <td>0.000000</td>\n",
       "      <td>0.11423</td>\n",
       "      <td>0.104535</td>\n",
       "      <td>0.279401</td>\n",
       "      <td>0.037779</td>\n",
       "      <td>1.000000</td>\n",
       "    </tr>\n",
       "  </tbody>\n",
       "</table>\n",
       "</div>"
      ],
      "text/plain": [
       "          0         1    2         3        4         5         6         7  \\\n",
       "0  1.000000  0.194947  0.0  0.072357  0.00000  0.000000  0.065005  0.083628   \n",
       "1  0.194947  1.000000  0.0  0.045049  0.00000  0.000000  0.261299  0.052066   \n",
       "2  0.000000  0.000000  1.0  0.000000  0.00000  0.000000  0.000000  0.000000   \n",
       "3  0.072357  0.045049  0.0  1.000000  0.00000  0.000000  0.046988  0.019325   \n",
       "4  0.000000  0.000000  0.0  0.000000  1.00000  0.000000  0.000000  0.000000   \n",
       "5  0.000000  0.000000  0.0  0.000000  0.00000  1.000000  0.215236  0.177041   \n",
       "6  0.065005  0.261299  0.0  0.046988  0.00000  0.215236  1.000000  0.132093   \n",
       "7  0.083628  0.052066  0.0  0.019325  0.00000  0.177041  0.132093  1.000000   \n",
       "8  0.000000  0.000000  0.0  0.000000  0.11423  0.104535  0.279401  0.037779   \n",
       "\n",
       "          8  \n",
       "0  0.000000  \n",
       "1  0.000000  \n",
       "2  0.000000  \n",
       "3  0.000000  \n",
       "4  0.114230  \n",
       "5  0.104535  \n",
       "6  0.279401  \n",
       "7  0.037779  \n",
       "8  1.000000  "
      ]
     },
     "execution_count": 64,
     "metadata": {},
     "output_type": "execute_result"
    }
   ],
   "source": [
    "import pandas as pd\n",
    "dfb = pd.DataFrame(data=G)\n",
    "dfb"
   ]
  },
  {
   "cell_type": "code",
   "execution_count": 65,
   "metadata": {},
   "outputs": [
    {
     "data": {
      "image/png": "[encoded data removed]",
      "text/plain": [
       "<Figure size 432x288 with 1 Axes>"
      ]
     },
     "metadata": {},
     "output_type": "display_data"
    }
   ],
   "source": [
    "G = nx.from_numpy_matrix(np.matrix(G), create_using=nx.DiGraph())\n",
    "layout = nx.spring_layout(G)\n",
    "nx.draw(G, layout)\n",
    "nx.draw_networkx_edge_labels(G, pos=layout)\n",
    "plt.show()"
   ]
  },
  {
   "cell_type": "code",
   "execution_count": 66,
   "metadata": {},
   "outputs": [
    {
     "name": "stdout",
     "output_type": "stream",
     "text": [
      "Banyaknya sisi : 25\n",
      "Banyaknya node : 9\n"
     ]
    },
    {
     "data": {
      "image/png": "[encoded data removed]",
      "text/plain": [
       "<Figure size 432x288 with 1 Axes>"
      ]
     },
     "metadata": {},
     "output_type": "display_data"
    }
   ],
   "source": [
    "#nx_graph = nx.from_scipy_sparse_matrix(res_graph, parallel_edges=True, create_using=nx.MultiGraph)\n",
    "#nx_graph=nx.from_scipy_sparse_matrix(res_graph, create_using=nx.DiGraph())\n",
    "nx_graph=nx.from_scipy_sparse_matrix(res_graph)\n",
    "\n",
    "#nx_graph = nx.from_numpy_matrix(res_graph, create_using=nx.DiGraph)\n",
    "nx.draw_circular(nx_graph,with_labels=True)\n",
    "print('Banyaknya sisi : {}'.format(nx_graph.number_of_edges()))\n",
    "print('Banyaknya node : {}'.format(nx_graph.number_of_nodes()))\n",
    "plt.show()"
   ]
  },
  {
   "cell_type": "markdown",
   "metadata": {},
   "source": [
    "# PageRank"
   ]
  },
  {
   "cell_type": "code",
   "execution_count": 67,
   "metadata": {},
   "outputs": [],
   "source": [
    "pageranks = nx.pagerank(nx_graph)"
   ]
  },
  {
   "cell_type": "code",
   "execution_count": 68,
   "metadata": {},
   "outputs": [
    {
     "name": "stdout",
     "output_type": "stream",
     "text": [
      "1 ) 0.10719662453329304\n",
      "2 ) 0.11256640758368491\n",
      "3 ) 0.1111111111111111\n",
      "4 ) 0.0994965460135802\n",
      "5 ) 0.1004762328862386\n",
      "6 ) 0.10834821395059363\n",
      "7 ) 0.13783565700137304\n",
      "8 ) 0.1097390374236152\n",
      "9 ) 0.11323016949651024\n"
     ]
    }
   ],
   "source": [
    "for i in pageranks:\n",
    "    print(i+1,')', pageranks[i])"
   ]
  },
  {
   "cell_type": "code",
   "execution_count": 69,
   "metadata": {},
   "outputs": [
    {
     "name": "stdout",
     "output_type": "stream",
     "text": [
      "[['0.13783565700137304'\n",
      "  'Menurutnya, perjalanan di masa libur bisa memicu peningkatan kasus Covid-19 dan meningkatkan keterpakaian tempat tidur di rumah sakit rujukan Covid-19.']\n",
      " ['0.11323016949651024'\n",
      "  '\"Kalau kita lihat alur domino effect, libur panjang menyebabkan peningkatan kasus, kapasitas rumah sakit,\" tandasnya.']\n",
      " ['0.11256640758368491'\n",
      "  'Dia mengingatkan, kerumunan bisa memicu penularan Covid-19.']\n",
      " ['0.1111111111111111'\n",
      "  '\"Jadi tahun baru ini berkumpul di luar dengan banyak orang sangat-sangat tidak kita anjurkan.']\n",
      " ['0.1097390374236152'\n",
      "  'Dia menyebut, masyarakat bisa tertular Covid-19 saat berada di bandara, stasiun bus, statsiun kereta, halte peristirahatan dan rest area ketika melakukan perjalanan selama masa libur.']\n",
      " ['0.10834821395059363'\n",
      "  'Dewi juga mengingatkan risiko melakukan perjalanan saat masa libur panjang.']\n",
      " ['0.10719662453329304'\n",
      "  ' Ketua Bidang Data dan Teknologi Informasi Satgas Penanganan Covid-19, Dewi Nur Aisyah, meminta masyarakat tidak menimbulkan kerumunan saat merayakan Tahun Baru 2021.']\n",
      " ['0.1004762328862386'\n",
      "  '\"Harus dipikirkan apakah kapasitas ruangannya cukup, apakah bisa dikerjakan secara virtual, ini juga akan menjadi pertimbangan,\" kata dia.']\n",
      " ['0.0994965460135802'\n",
      "  'Jangan ada lah kumpul-kumpul dulu walaupun di ruangan terbuka,\" katanya saat mengisi Talk Show Covid-19 Dalam Angka di Gedung BNPB,  Selain tahun baru, dia juga mengajak umat Kristiani yang merayakan Natal tetap memperhatikan protokol kesehatan.']]\n"
     ]
    }
   ],
   "source": [
    "sentence_array = sorted(((pageranks[i], s) for i, s in enumerate(sentences_list)), reverse=True)\n",
    "sentence_array = np.asarray(sentence_array)\n",
    "print(sentence_array)"
   ]
  },
  {
   "cell_type": "code",
   "execution_count": 70,
   "metadata": {},
   "outputs": [],
   "source": [
    "rank_max = float(sentence_array[0][0])\n",
    "rank_min = float(sentence_array[len(sentence_array) - 1][0])"
   ]
  },
  {
   "cell_type": "code",
   "execution_count": 71,
   "metadata": {},
   "outputs": [
    {
     "name": "stdout",
     "output_type": "stream",
     "text": [
      "maximum pagerank : 0.13783565700137304\n",
      "minimum pagerank : 0.0994965460135802\n"
     ]
    }
   ],
   "source": [
    "print('maximum pagerank :',rank_max)\n",
    "print('minimum pagerank :',rank_min)"
   ]
  },
  {
   "cell_type": "code",
   "execution_count": 72,
   "metadata": {},
   "outputs": [
    {
     "name": "stdout",
     "output_type": "stream",
     "text": [
      "9\n",
      "[1.0, 0.3582144480946056, 0.34090152936165247, 0.30294299471964753, 0.2671551620822977, 0.23087827831562918, 0.2008413424652581, 0.025553197437737388, 0.0]\n",
      "0.1097390374236152\n"
     ]
    }
   ],
   "source": [
    "temp_array = [] #skor normalisasi\n",
    "\n",
    "# Jika semua rank sama\n",
    "# taking any sentence will give the summary, say the first sentence\n",
    "flag = 0\n",
    "if rank_max - rank_min == 0:\n",
    "    temp_array.append(0)\n",
    "    flag = 1\n",
    "\n",
    "# If the sentence has different ranks\n",
    "if flag != 1:\n",
    "    for i in range(0, len(sentence_array)):\n",
    "        temp_array.append((float(sentence_array[i][0]) - rank_min) / (rank_max - rank_min))\n",
    "\n",
    "print(len(temp_array))\n",
    "print(temp_array)\n",
    "print(sentence_array[4,0])"
   ]
  },
  {
   "cell_type": "code",
   "execution_count": 73,
   "metadata": {},
   "outputs": [],
   "source": [
    "# Calculation of threshold:\n",
    "# We take the mean value of normalized scores\n",
    "threshold = (sum(temp_array) / len(temp_array))"
   ]
  },
  {
   "cell_type": "code",
   "execution_count": 74,
   "metadata": {},
   "outputs": [],
   "source": [
    "# Separate out the sentences that satiasfy the criteria of having a score above the threshold\n",
    "sentence_list = []\n",
    "if len(temp_array) > 1:\n",
    "    for i in range(0, len(temp_array)):\n",
    "        if temp_array[i] > threshold:\n",
    "                sentence_list.append(sentence_array[i][1])\n",
    "else:\n",
    "    sentence_list.append(sentence_array[0][1])"
   ]
  },
  {
   "cell_type": "code",
   "execution_count": 75,
   "metadata": {},
   "outputs": [
    {
     "name": "stdout",
     "output_type": "stream",
     "text": [
      "Menurutnya, perjalanan di masa libur bisa memicu peningkatan kasus Covid-19 dan meningkatkan keterpakaian tempat tidur di rumah sakit rujukan Covid-19. \"Kalau kita lihat alur domino effect, libur panjang menyebabkan peningkatan kasus, kapasitas rumah sakit,\" tandasnya. Dia mengingatkan, kerumunan bisa memicu penularan Covid-19.\n"
     ]
    }
   ],
   "source": [
    "summary = \" \".join(str(x) for x in sentence_list)\n",
    "print(summary)"
   ]
  },
  {
   "cell_type": "code",
   "execution_count": 76,
   "metadata": {},
   "outputs": [],
   "source": [
    "f = open('summary.txt', 'w')\n",
    "f.write(summary)\n",
    "f.close()"
   ]
  },
  {
   "cell_type": "code",
   "execution_count": null,
   "metadata": {},
   "outputs": [],
   "source": []
  }
 ],
 "metadata": {
  "kernelspec": {
   "display_name": "Python 3",
   "language": "python",
   "name": "python3"
  },
  "language_info": {
   "codemirror_mode": {
    "name": "ipython",
    "version": 3
   },
   "file_extension": ".py",
   "mimetype": "text/x-python",
   "name": "python",
   "nbconvert_exporter": "python",
   "pygments_lexer": "ipython3",
   "version": "3.6.5"
  }
 },
 "nbformat": 4,
 "nbformat_minor": 2
}
